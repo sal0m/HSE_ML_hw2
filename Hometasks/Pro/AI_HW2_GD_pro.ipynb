{
  "nbformat": 4,
  "nbformat_minor": 0,
  "metadata": {
    "colab": {
      "provenance": [],
      "include_colab_link": true
    },
    "kernelspec": {
      "name": "python3",
      "display_name": "Python 3"
    },
    "language_info": {
      "name": "python"
    }
  },
  "cells": [
    {
      "cell_type": "markdown",
      "metadata": {
        "id": "view-in-github",
        "colab_type": "text"
      },
      "source": [
        "<a href=\"https://colab.research.google.com/github/sal0m/HSE_ML_hw2/blob/main/Hometasks/Pro/AI_HW2_GD_pro.ipynb\" target=\"_parent\"><img src=\"https://colab.research.google.com/assets/colab-badge.svg\" alt=\"Open In Colab\"/></a>"
      ]
    },
    {
      "cell_type": "markdown",
      "source": [
        "# **Домашнее задание 2: Градиентный спуск (pro)**\n",
        "\n",
        "В этом задании две части - теоретическая и практическая. Теорию можно набирать, используя LaTex или просто решать на листочке, сфотографировать и отправить вместе с заполненным ноутбуком в anytask.\n",
        "\n",
        "Максимальный балл за домашнее задание - 10."
      ],
      "metadata": {
        "id": "lJ1Hwqs18fSZ"
      }
    },
    {
      "cell_type": "markdown",
      "source": [],
      "metadata": {
        "id": "W6Zypk_ZcsJW"
      }
    },
    {
      "cell_type": "markdown",
      "source": [
        "## Часть 1 (теоретическая)\n",
        "\n",
        "## Задание 1 (**1.5 балла**)\n",
        "\n",
        "В случае одномерной Ridge-регрессии минимизируется функция со штрафом:\n",
        "$$Q(w) = (y-xw)^T(y-xw)+\\lambda w^2,$$\n",
        "где $\\lambda$ - положительный параметр, штрафующий функцию за слишком большие значения $w$.\n",
        "\n",
        "1)  (**0.5 балла**) Найдите производную $\\nabla_w Q(w)$, выведите формулу для оптимального $w$.\n",
        "\n",
        "2) (**0.5 балла**) Найдите вторую производную $\\nabla^2_w Q(w)$. Убедитесь, что мы оказались в точке минимума.\n",
        "\n",
        "3) (**0.5 балла**) Выпишите шаг градиентного спуска в матричном виде."
      ],
      "metadata": {
        "id": "EMZ5My7kiPY_"
      }
    },
    {
      "cell_type": "markdown",
      "source": [
        "`Ваш ответ здесь`\n",
        "\n"
      ],
      "metadata": {
        "id": "LQMI7b9Y9KvW"
      }
    },
    {
      "cell_type": "markdown",
      "source": [
        "## Часть 2 (практическая).\n",
        "\n",
        "## Задание 2 (**1 балл**)\n",
        "\n",
        "Дана функция: $$f(x) = x\\cdot sin(5x) + 0.1 \\cdot x^2$$\n",
        "\n",
        "Для этой функции:\n",
        "\n",
        "- [ ] Реализуйте (или возьмите рассмотренный на занятии) метод градиетного спуска с условием остановки `stop=1e^-6` и шагом `eta=0.001`. **Градиетный спуск обязательно должен сохранять траекторию движения.**\n",
        "- [ ] Задайте стартовые точки x0, равные 0, 0.5, 1\n",
        "- [ ] Реализуйте нахождение точек минимума и максимума функции $f(x)$ (для нахождения максимума нам нужно в направлении градиента, а не антиградиента)\n",
        "- [ ] Проанализируйте результаты. Предположите, с чем они связаны. Ответьте на вопросы:\n",
        "    - Чему равны значения экстремумов?\n",
        "    - При старте из какой начальной точки найденные экстремумы совпадут?\n",
        "\n",
        "\n"
      ],
      "metadata": {
        "id": "_pGazqdK9Tvf"
      }
    },
    {
      "cell_type": "code",
      "source": [
        "import numpy as np\n",
        "import sympy as sp"
      ],
      "metadata": {
        "id": "8XJ93Y-MaiPZ"
      },
      "execution_count": 2,
      "outputs": []
    },
    {
      "cell_type": "code",
      "source": [
        "from sympy import *"
      ],
      "metadata": {
        "id": "Eh0yo7zqbkKy"
      },
      "execution_count": 10,
      "outputs": []
    },
    {
      "cell_type": "code",
      "source": [
        "x = sp.Symbol('x')"
      ],
      "metadata": {
        "id": "pwfwb9Xna4Dw"
      },
      "execution_count": 3,
      "outputs": []
    },
    {
      "cell_type": "code",
      "source": [
        "def f(x):\n",
        "  return x * sin(5 * x) + 0.1 * x**2"
      ],
      "metadata": {
        "id": "2BG3WvPLa4sF"
      },
      "execution_count": 13,
      "outputs": []
    },
    {
      "cell_type": "code",
      "source": [
        "df_x = sp.diff(f(x))\n",
        "df_x"
      ],
      "metadata": {
        "colab": {
          "base_uri": "https://localhost:8080/",
          "height": 38
        },
        "id": "v-jrwYXbbBCC",
        "outputId": "d2316d2d-dc42-447a-dd35-072d8afb0c55"
      },
      "execution_count": 14,
      "outputs": [
        {
          "output_type": "execute_result",
          "data": {
            "text/plain": [
              "5*x*cos(5*x) + 0.2*x + sin(5*x)"
            ],
            "text/latex": "$\\displaystyle 5 x \\cos{\\left(5 x \\right)} + 0.2 x + \\sin{\\left(5 x \\right)}$"
          },
          "metadata": {},
          "execution_count": 14
        }
      ]
    },
    {
      "cell_type": "code",
      "source": [
        "# Функция и её производная\n",
        "def f(x):\n",
        "  return x * np.sin(5 * x) + 0.1 * x ** 2\n",
        "\n",
        "def df(x):\n",
        "    return 5 * x * np.cos(5 * x) + 0.2 * x + np.sin(5 * x)\n",
        "\n",
        "# Градиентный спуск\n",
        "def gradient_descent(f, df, x0, eta, max_iter=1000, tol=1e-6):\n",
        "    x_curr = x0\n",
        "    path = [x_curr]\n",
        "\n",
        "    for i in range(max_iter):\n",
        "      x_new = x_curr - eta * df(x_curr)\n",
        "      path.append(x_new)\n",
        "\n",
        "      if abs(x_new - x_curr) < tol:\n",
        "        return x_curr, path\n",
        "\n",
        "      x_curr = x_new\n",
        "\n",
        "    return x, path\n",
        "\n",
        "# Поиск экстремумов\n",
        "def find_points(f, df, x0, eta=0.001, max_iter=1000, tol=1e-6):\n",
        "\n",
        "    min_x, min_path = gradient_descent(f, df, x0, eta, max_iter, tol)\n",
        "    min_val = f(min_x)\n",
        "\n",
        "    max_x, max_path = gradient_descent(f, lambda x: -df(x), x0, eta, max_iter, tol)\n",
        "    max_val = f(max_x)\n",
        "\n",
        "    return {\"minimum\": (min_x, min_val, min_path), \"maximum\": (max_x, max_val, max_path)}"
      ],
      "metadata": {
        "id": "HJbAEs3_-zet"
      },
      "execution_count": 19,
      "outputs": []
    },
    {
      "cell_type": "code",
      "source": [
        "x0_values = [0, 0.5, 1]\n",
        "for x0 in x0_values:\n",
        "  result = find_points(f, df, x0)\n",
        "  print(f\"Стартовая точка: {x0}\")\n",
        "  print(f\"Минимум: x = {result['minimum'][0]:.4f}, f(x) = {result['minimum'][1]:.4f}\")\n",
        "  print(f\"Максимум: x = {result['maximum'][0]:.4f}, f(x) = {result['maximum'][1]:.4f}\")\n",
        "  print(\"-\" * 40)"
      ],
      "metadata": {
        "colab": {
          "base_uri": "https://localhost:8080/"
        },
        "id": "05B3GVSdpHcb",
        "outputId": "e0a81948-3187-4777-8d54-93714a270476"
      },
      "execution_count": 20,
      "outputs": [
        {
          "output_type": "stream",
          "name": "stdout",
          "text": [
            "Стартовая точка: 0\n",
            "Минимум: x = 0.0000, f(x) = 0.0000\n",
            "Максимум: x = 0.0000, f(x) = 0.0000\n",
            "----------------------------------------\n",
            "Стартовая точка: 0.5\n",
            "Минимум: x = 0.9751, f(x) = -0.8671\n",
            "Максимум: x = 0.4119, f(x) = 0.3807\n",
            "----------------------------------------\n",
            "Стартовая точка: 1\n",
            "Минимум: x = 0.9751, f(x) = -0.8671\n",
            "Максимум: x = 1.6035, f(x) = 1.8392\n",
            "----------------------------------------\n"
          ]
        }
      ]
    },
    {
      "cell_type": "code",
      "source": [
        "import matplotlib.pyplot as plt"
      ],
      "metadata": {
        "id": "aweWz7ztp8W4"
      },
      "execution_count": 21,
      "outputs": []
    },
    {
      "cell_type": "code",
      "source": [
        "# Визуализация функции и экстремумов\n",
        "def plot_function_and_extrema(f, df, x0_values, eta=0.001):\n",
        "    x = np.linspace(-2, 2, 1000)  # диапазон для построения функции\n",
        "    y = f(x)\n",
        "\n",
        "    plt.figure(figsize=(10, 6))\n",
        "    plt.plot(x, y, label=\"f(x)\", color=\"blue\")\n",
        "\n",
        "    # Находим и отображаем экстремумы для каждой стартовой точки\n",
        "    for x0 in x0_values:\n",
        "        result = find_points(f, df, x0, eta)\n",
        "        min_x, min_val = result[\"minimum\"][:2]\n",
        "        max_x, max_val = result[\"maximum\"][:2]\n",
        "\n",
        "        # Отображение минимума\n",
        "        plt.scatter(min_x, min_val, color=\"red\", marker=\"o\", s=100, label=f\"Min (x0={x0})\")\n",
        "        plt.text(min_x, min_val, f\"Min: ({min_x:.2f}, {min_val:.2f})\", fontsize=9, ha='right')\n",
        "\n",
        "        # Отображение максимума\n",
        "        plt.scatter(max_x, max_val, color=\"green\", marker=\"x\", s=100, label=f\"Max (x0={x0})\")\n",
        "        plt.text(max_x, max_val, f\"Max: ({max_x:.2f}, {max_val:.2f})\", fontsize=9, ha='left')\n",
        "\n",
        "    plt.xlabel(\"x\")\n",
        "    plt.ylabel(\"f(x)\")\n",
        "    plt.title(\"Функция и найденные экстремумы\")\n",
        "    plt.legend()\n",
        "    plt.grid(True)\n",
        "    plt.show()\n",
        "\n",
        "# Стартовые точки\n",
        "x0_values = [0, 0.5, 1]\n",
        "\n",
        "# Построение графика\n",
        "plot_function_and_extrema(f, df, x0_values)"
      ],
      "metadata": {
        "colab": {
          "base_uri": "https://localhost:8080/",
          "height": 564
        },
        "id": "iyuPU28Gp6I1",
        "outputId": "ffb455b6-1925-4298-97f8-588d7a3be3f2"
      },
      "execution_count": 22,
      "outputs": [
        {
          "output_type": "display_data",
          "data": {
            "text/plain": [
              "<Figure size 1000x600 with 1 Axes>"
            ],
            "image/png": "[encoded data removed]"
          },
          "metadata": {}
        }
      ]
    },
    {
      "cell_type": "markdown",
      "source": [
        "## Задание 3 (**0.5 балла**).\n",
        "Напишите функцию, вычисляющую значение весов в линейной регрессии по точной (аналитически найденной) формуле."
      ],
      "metadata": {
        "id": "lm6_Ln0GoliG"
      }
    },
    {
      "cell_type": "code",
      "source": [
        "def ols_solution(X, y):\n",
        "    X = np.hstack((np.ones((X.shape[0], 1)), X))\n",
        "    w = np.linalg.inv(X.T @ X) @ X.T @ y\n",
        "    return w"
      ],
      "metadata": {
        "id": "ZrVvpU9miOga"
      },
      "execution_count": null,
      "outputs": []
    },
    {
      "cell_type": "markdown",
      "source": [
        "## Задание 5 (**1 балл**).\n",
        "Модифицируйте метод градиентного спуска с семинара так, чтобы это теперь был метод стохастического градиентного спуска."
      ],
      "metadata": {
        "id": "_shCsTQ1pVcU"
      }
    },
    {
      "cell_type": "code",
      "source": [
        "def compute_cost(X, y, theta):\n",
        "    m = len(y)\n",
        "\n",
        "    cost = (1./m) * (np.linalg.norm(X @ theta - y) ** 2)\n",
        "    return cost"
      ],
      "metadata": {
        "id": "MrrIYt5kmZ1U"
      },
      "execution_count": null,
      "outputs": []
    },
    {
      "cell_type": "code",
      "source": [
        "import random\n",
        "\n",
        "def stochastic_gradient_descent(X, y, learning_rate, iterations):\n",
        "\n",
        "    X = np.hstack((np.ones((X.shape[0], 1)), X))\n",
        "    params = np.random.rand(X.shape[1])\n",
        "\n",
        "    j = 0\n",
        "\n",
        "    cost_track = np.zeros((iterations,1))\n",
        "\n",
        "    for i in range(iterations):\n",
        "\n",
        "        j = random.randint(0, len(X)-1)\n",
        "\n",
        "        params = params - 2./learning_rate * (X[j].T @ ((X[j] @ params) - y))\n",
        "        cost_track[i] = compute_cost(X, y, params)\n",
        "\n",
        "    return cost_track, params"
      ],
      "metadata": {
        "id": "fTZWxz1zpb9R"
      },
      "execution_count": null,
      "outputs": []
    },
    {
      "cell_type": "markdown",
      "source": [
        "## Задание 6 (**3 балла**).\n",
        "* **(0 баллов)**. Скопируйте метод градиентного спуска из семинара в этот ноутбук.\n",
        "\n",
        "* **(0.5 балла)**. Обучите линейную регрессию на данных, сгенерированных ниже, тремя методами (по точной формуле, с помощью GD и с помощью SGD) на данных для задачи регрессии (см. код). Для GD и SGD используйте learning_rate = 0.01, iterations=10000.\n",
        "\n",
        "* **(0.5 балла)**. С помощью каждого метода сделайте предсказание (на всех данных), вычислите качество предсказания r2 (from sklearn.metrics import r2_score). Для получения предсказания можете использовать функцию predict с семинара.\n",
        "\n",
        "\n",
        "Ответьте на следующие вопросы (каждый вопрос - **0.5 балла**):\n",
        "\n",
        "1) все ли методы справились с нахождением минимума? если нет, то почему какой-то из методов не справился?\n",
        "\n",
        "2) сравните время работы методов (используйте библиотеку time): замеряйте время работы соответствующей написанной вами функции.\n",
        "\n",
        "3) для методов GD и SGD нарисуйте графики (для каждого свой) зависимости ошибки (loss) от номера итерации.\n",
        "\n",
        "4) какой метод успешнее всего справился с задачей? (т.е. r2 наибольший)."
      ],
      "metadata": {
        "id": "WnRlUa9Npi9o"
      }
    },
    {
      "cell_type": "code",
      "source": [
        "from sklearn.datasets import make_regression\n",
        "import pandas as pd\n",
        "import numpy as np\n",
        "\n",
        "X, y, _ = make_regression(n_samples=100000,#number of samples\n",
        "                          n_features=10,#number of features\n",
        "                          n_informative=8,#number of useful features\n",
        "                          noise=100,#bias and standard deviation of the guassian noise\n",
        "                          coef=True,#true coefficient used to generated the data\n",
        "                          random_state=123)\n",
        "\n",
        "X = pd.DataFrame(data=X, columns=np.arange(0, X.shape[1]))\n",
        "X[10] = X[6] + X[7] + np.random.random()*0.01"
      ],
      "metadata": {
        "id": "LBu41KSpqbbI"
      },
      "execution_count": null,
      "outputs": []
    },
    {
      "cell_type": "code",
      "source": [
        "# your code here"
      ],
      "metadata": {
        "id": "f1SE0-oUtVlO"
      },
      "execution_count": null,
      "outputs": []
    },
    {
      "cell_type": "markdown",
      "source": [
        "your text here"
      ],
      "metadata": {
        "id": "2zrdVgQrtcAn"
      }
    },
    {
      "cell_type": "markdown",
      "source": [
        "## Задание 7 (1.5 балла).\n",
        "\n",
        "* **(0.5 балла)**. Добавьте в функцию из задания 5 L2-регуляризацию и, соответственно, новый аргумент - коэффициент при регуляризаторе.\n",
        "\n",
        "* **(1 балл)**. На сгенерированных выше данных обучите модифицированный алгоритм SGD с регуляризацией: в цикле перебирайте значения коэффициента регуляризации от 0.1 до 1 с шагом 0.1. Для каждого значения обучите модель и сделайте предсказание, выведите значение r2. Для какого значения коэффициента регуляризации получилось наилучшее качество r2, почему?"
      ],
      "metadata": {
        "id": "wYmzzJVV54zT"
      }
    },
    {
      "cell_type": "code",
      "source": [
        "# your code here"
      ],
      "metadata": {
        "id": "b_hC1Ehi612d"
      },
      "execution_count": null,
      "outputs": []
    },
    {
      "cell_type": "markdown",
      "source": [
        "## Задание 8 (2 балла)\n",
        "\n",
        "Реализуйте на выбор одну из оптимизаций градиентного спуска - Momentum или  AdaGrad. Необходимые выкладки вы можете подсмотреть [здесь](https://education.yandex.ru/handbook/ml/article/optimizaciya-v-ml)."
      ],
      "metadata": {
        "id": "zMUiRyCiCB3E"
      }
    },
    {
      "cell_type": "code",
      "source": [
        "def modified_grad_descent(X, y, learning_rate, iterations): # добавьте в аргументы также специфические для метода оптимизации гиперпараметры\n",
        "    # your code here"
      ],
      "metadata": {
        "id": "ID9ervHwCyc7"
      },
      "execution_count": null,
      "outputs": []
    },
    {
      "cell_type": "markdown",
      "source": [
        "## Бонус\n",
        "\n",
        "## Задание 9 (0.5 балла)\n",
        "\n",
        "Существует [метод Ньютона](https://en.wikipedia.org/wiki/Newton%27s_method_in_optimization) (метод второго порядка) для поиска минимума функции.\n",
        "\n",
        "Известно, что методы второго порядка точнее, чем методы первого порядка (то есть те, которые используют только первую производную для оптимизации). Как вы думаете, почему в оптимизации функций потерь все формулы используют только производные первого порядка? Почему не используют метод Ньютона?"
      ],
      "metadata": {
        "id": "tP182Wbyh8xg"
      }
    },
    {
      "cell_type": "markdown",
      "source": [
        "`Ваш ответ здесь`"
      ],
      "metadata": {
        "id": "QBHOY5Ngi_C2"
      }
    },
    {
      "cell_type": "markdown",
      "source": [
        "## **Часть Котобонус** 🐈\n",
        "\n",
        "Ура-ура, с вами снова кот, который может добавить вам баллы!\n",
        "- 0.25, если вы угадаете, чей он\n",
        "- 0.05 если просто предположите\n",
        "\n",
        "**Подсказка:** кот одной из наших замечательных ассистенток!\n",
        "\n",
        "\n",
        "[Кайфующий кот](https://ibb.co/qxjz2tp)"
      ],
      "metadata": {
        "id": "u7hKRuViF7hv"
      }
    },
    {
      "cell_type": "code",
      "source": [],
      "metadata": {
        "id": "Hchpz56wGEzA"
      },
      "execution_count": null,
      "outputs": []
    }
  ]
}