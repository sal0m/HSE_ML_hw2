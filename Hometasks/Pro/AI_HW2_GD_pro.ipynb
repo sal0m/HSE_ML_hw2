{
  "nbformat": 4,
  "nbformat_minor": 0,
  "metadata": {
    "colab": {
      "provenance": [],
      "toc_visible": true,
      "include_colab_link": true
    },
    "kernelspec": {
      "name": "python3",
      "display_name": "Python 3"
    },
    "language_info": {
      "name": "python"
    }
  },
  "cells": [
    {
      "cell_type": "markdown",
      "metadata": {
        "id": "view-in-github",
        "colab_type": "text"
      },
      "source": [
        "<a href=\"https://colab.research.google.com/github/sal0m/HSE_ML_hw2/blob/main/Hometasks/Pro/AI_HW2_GD_pro.ipynb\" target=\"_parent\"><img src=\"https://colab.research.google.com/assets/colab-badge.svg\" alt=\"Open In Colab\"/></a>"
      ]
    },
    {
      "cell_type": "markdown",
      "source": [
        "# **Домашнее задание 2: Градиентный спуск (pro)**\n",
        "\n",
        "В этом задании две части - теоретическая и практическая. Теорию можно набирать, используя LaTex или просто решать на листочке, сфотографировать и отправить вместе с заполненным ноутбуком в anytask.\n",
        "\n",
        "Максимальный балл за домашнее задание - 10."
      ],
      "metadata": {
        "id": "lJ1Hwqs18fSZ"
      }
    },
    {
      "cell_type": "markdown",
      "source": [],
      "metadata": {
        "id": "W6Zypk_ZcsJW"
      }
    },
    {
      "cell_type": "markdown",
      "source": [
        "## Часть 1 (теоретическая)\n",
        "\n",
        "## Задание 1 (**1.5 балла**)\n",
        "\n",
        "В случае одномерной Ridge-регрессии минимизируется функция со штрафом:\n",
        "$$Q(w) = (y-xw)^T(y-xw)+\\lambda w^2,$$\n",
        "где $\\lambda$ - положительный параметр, штрафующий функцию за слишком большие значения $w$.\n",
        "\n",
        "1)  (**0.5 балла**) Найдите производную $\\nabla_w Q(w)$, выведите формулу для оптимального $w$.\n",
        "\n",
        "2) (**0.5 балла**) Найдите вторую производную $\\nabla^2_w Q(w)$. Убедитесь, что мы оказались в точке минимума.\n",
        "\n",
        "3) (**0.5 балла**) Выпишите шаг градиентного спуска в матричном виде."
      ],
      "metadata": {
        "id": "EMZ5My7kiPY_"
      }
    },
    {
      "cell_type": "markdown",
      "source": [
        "`Ваш ответ здесь`\n",
        "\n"
      ],
      "metadata": {
        "id": "LQMI7b9Y9KvW"
      }
    },
    {
      "cell_type": "markdown",
      "source": [
        "## Часть 2 (практическая).\n",
        "\n",
        "## Задание 2 (**1 балл**)\n",
        "\n",
        "Дана функция: $$f(x) = x\\cdot sin(5x) + 0.1 \\cdot x^2$$\n",
        "\n",
        "Для этой функции:\n",
        "\n",
        "- [ ] Реализуйте (или возьмите рассмотренный на занятии) метод градиетного спуска с условием остановки `stop=1e^-6` и шагом `eta=0.001`. **Градиетный спуск обязательно должен сохранять траекторию движения.**\n",
        "- [ ] Задайте стартовые точки x0, равные 0, 0.5, 1\n",
        "- [ ] Реализуйте нахождение точек минимума и максимума функции $f(x)$ (для нахождения максимума нам нужно в направлении градиента, а не антиградиента)\n",
        "- [ ] Проанализируйте результаты. Предположите, с чем они связаны. Ответьте на вопросы:\n",
        "    - Чему равны значения экстремумов?\n",
        "    - При старте из какой начальной точки найденные экстремумы совпадут?\n",
        "\n",
        "\n"
      ],
      "metadata": {
        "id": "_pGazqdK9Tvf"
      }
    },
    {
      "cell_type": "code",
      "source": [
        "import numpy as np\n",
        "import sympy as sp\n",
        "import matplotlib.pyplot as plt\n",
        "from sympy import *"
      ],
      "metadata": {
        "id": "8XJ93Y-MaiPZ"
      },
      "execution_count": 3,
      "outputs": []
    },
    {
      "cell_type": "code",
      "source": [
        "x = sp.Symbol('x')"
      ],
      "metadata": {
        "id": "pwfwb9Xna4Dw"
      },
      "execution_count": 4,
      "outputs": []
    },
    {
      "cell_type": "code",
      "source": [
        "def f(x):\n",
        "  return x * sin(5 * x) + 0.1 * x**2"
      ],
      "metadata": {
        "id": "2BG3WvPLa4sF"
      },
      "execution_count": 5,
      "outputs": []
    },
    {
      "cell_type": "code",
      "source": [
        "df_x = sp.diff(f(x))\n",
        "df_x"
      ],
      "metadata": {
        "colab": {
          "base_uri": "https://localhost:8080/",
          "height": 39
        },
        "id": "v-jrwYXbbBCC",
        "outputId": "f9f216c9-e8af-46ad-d8b1-aeaaf6942363"
      },
      "execution_count": 6,
      "outputs": [
        {
          "output_type": "execute_result",
          "data": {
            "text/plain": [
              "5*x*cos(5*x) + 0.2*x + sin(5*x)"
            ],
            "text/latex": "$\\displaystyle 5 x \\cos{\\left(5 x \\right)} + 0.2 x + \\sin{\\left(5 x \\right)}$"
          },
          "metadata": {},
          "execution_count": 6
        }
      ]
    },
    {
      "cell_type": "code",
      "source": [
        "# Функция и её производная\n",
        "def f(x):\n",
        "  return x * np.sin(5 * x) + 0.1 * x ** 2\n",
        "\n",
        "def df(x):\n",
        "    return 5 * x * np.cos(5 * x) + 0.2 * x + np.sin(5 * x)\n",
        "\n",
        "# Градиентный спуск\n",
        "def gradient_descent(f, df, x0, eta, max_iter=1000, tol=1e-6):\n",
        "    x_curr = x0\n",
        "    path = [x_curr]\n",
        "\n",
        "    for i in range(max_iter):\n",
        "      x_new = x_curr - eta * df(x_curr)\n",
        "      path.append(x_new)\n",
        "\n",
        "      if abs(x_new - x_curr) < tol:\n",
        "        return x_curr, path\n",
        "\n",
        "      x_curr = x_new\n",
        "\n",
        "    return x, path\n",
        "\n",
        "# Поиск экстремумов\n",
        "def find_points(f, df, x0, eta=0.001, max_iter=1000, tol=1e-6):\n",
        "\n",
        "    min_x, min_path = gradient_descent(f, df, x0, eta, max_iter, tol)\n",
        "    min_val = f(min_x)\n",
        "\n",
        "    max_x, max_path = gradient_descent(f, lambda x: -df(x), x0, eta, max_iter, tol)\n",
        "    max_val = f(max_x)\n",
        "\n",
        "    return {\"min\": (min_x, min_val, min_path), \"max\": (max_x, max_val, max_path)}"
      ],
      "metadata": {
        "id": "HJbAEs3_-zet"
      },
      "execution_count": 7,
      "outputs": []
    },
    {
      "cell_type": "code",
      "source": [
        "x0_values = [0, 0.5, 1]\n",
        "for x0 in x0_values:\n",
        "  result = find_points(f, df, x0)\n",
        "  print(f\"Стартовая точка: {x0}\")\n",
        "  print(f\"Минимум: x = {result['min'][0]:.4f}, f(x) = {result['min'][1]:.4f}\")\n",
        "  print(f\"Максимум: x = {result['max'][0]:.4f}, f(x) = {result['max'][1]:.4f}\")\n",
        "  print(\"-\" * 40)"
      ],
      "metadata": {
        "colab": {
          "base_uri": "https://localhost:8080/"
        },
        "id": "05B3GVSdpHcb",
        "outputId": "5560a2d7-88ed-460c-f5de-4848d2581925"
      },
      "execution_count": 9,
      "outputs": [
        {
          "output_type": "stream",
          "name": "stdout",
          "text": [
            "Стартовая точка: 0\n",
            "Минимум: x = 0.0000, f(x) = 0.0000\n",
            "Максимум: x = 0.0000, f(x) = 0.0000\n",
            "----------------------------------------\n",
            "Стартовая точка: 0.5\n",
            "Минимум: x = 0.9751, f(x) = -0.8671\n",
            "Максимум: x = 0.4119, f(x) = 0.3807\n",
            "----------------------------------------\n",
            "Стартовая точка: 1\n",
            "Минимум: x = 0.9751, f(x) = -0.8671\n",
            "Максимум: x = 1.6035, f(x) = 1.8392\n",
            "----------------------------------------\n"
          ]
        }
      ]
    },
    {
      "cell_type": "code",
      "source": [
        "# Визуализация функции и экстремумов\n",
        "def plot_function_and_extrema(f, df, x0_values, eta=0.001):\n",
        "    x = np.linspace(-2, 2, 1000)\n",
        "    y = f(x)\n",
        "\n",
        "    plt.figure(figsize=(10, 6))\n",
        "    plt.plot(x, y, label=\"f(x)\", color=\"blue\")\n",
        "\n",
        "    for x0 in x0_values:\n",
        "        result = find_points(f, df, x0, eta)\n",
        "        min_x, min_val = result[\"min\"][:2]\n",
        "        max_x, max_val = result[\"max\"][:2]\n",
        "\n",
        "        plt.scatter(min_x, min_val, color=\"red\", marker=\"o\", s=100, label=f\"Min (x0={x0})\")\n",
        "        plt.text(min_x, min_val, f\"Min: ({min_x:.2f}, {min_val:.2f})\", fontsize=9, ha='right')\n",
        "\n",
        "        plt.scatter(max_x, max_val, color=\"green\", marker=\"x\", s=100, label=f\"Max (x0={x0})\")\n",
        "        plt.text(max_x, max_val, f\"Max: ({max_x:.2f}, {max_val:.2f})\", fontsize=9, ha='left')\n",
        "\n",
        "    plt.xlabel(\"x\")\n",
        "    plt.ylabel(\"f(x)\")\n",
        "    plt.title(\"Функция и найденные экстремумы\")\n",
        "    plt.legend()\n",
        "    plt.grid(True)\n",
        "    plt.show()\n",
        "\n",
        "x0_values = [0, 0.5, 1]\n",
        "\n",
        "plot_function_and_extrema(f, df, x0_values)"
      ],
      "metadata": {
        "colab": {
          "base_uri": "https://localhost:8080/",
          "height": 564
        },
        "id": "iyuPU28Gp6I1",
        "outputId": "3c1496f9-3d59-4e38-d560-09f2a23f2c5f"
      },
      "execution_count": 11,
      "outputs": [
        {
          "output_type": "display_data",
          "data": {
            "text/plain": [
              "<Figure size 1000x600 with 1 Axes>"
            ],
            "image/png": "[encoded data removed]"
          },
          "metadata": {}
        }
      ]
    },
    {
      "cell_type": "markdown",
      "source": [
        "## Выводы:\n",
        "\n",
        "1.   Результаты зависят от выбора начальной точки, тк у функции есть несколько локальных минимумов и максимумов (наглядно видна проблема градиентного спуска)\n",
        "2.   В точке x0 = 0 найденные экстремумы совпали, тк функция симметрична вокруг этой точки (она является и локальным минимумом и локальным максимумом) + мы стартуем из точки, где производная уже = 0, градиентному спуску некуда двигаться\n",
        "\n"
      ],
      "metadata": {
        "id": "OSPcYyyModLF"
      }
    },
    {
      "cell_type": "markdown",
      "source": [
        "## Задание 3 (**0.5 балла**).\n",
        "Напишите функцию, вычисляющую значение весов в линейной регрессии по точной (аналитически найденной) формуле."
      ],
      "metadata": {
        "id": "lm6_Ln0GoliG"
      }
    },
    {
      "cell_type": "code",
      "source": [
        "def ols_solution(X, y):\n",
        "    X = np.hstack((np.ones((X.shape[0], 1)), X))\n",
        "    w = np.linalg.inv(X.T @ X) @ X.T @ y\n",
        "    return w"
      ],
      "metadata": {
        "id": "ZrVvpU9miOga"
      },
      "execution_count": 12,
      "outputs": []
    },
    {
      "cell_type": "markdown",
      "source": [
        "## Задание 5 (**1 балл**).\n",
        "Модифицируйте метод градиентного спуска с семинара так, чтобы это теперь был метод стохастического градиентного спуска."
      ],
      "metadata": {
        "id": "_shCsTQ1pVcU"
      }
    },
    {
      "cell_type": "code",
      "source": [
        "def compute_cost(X, y, theta):\n",
        "    m = len(y)\n",
        "\n",
        "    cost = (1./m) * (np.linalg.norm(X @ theta - y) ** 2)\n",
        "    return cost"
      ],
      "metadata": {
        "id": "MrrIYt5kmZ1U"
      },
      "execution_count": 13,
      "outputs": []
    },
    {
      "cell_type": "code",
      "source": [
        "import random\n",
        "\n",
        "def stochastic_gradient_descent(X, y, learning_rate, iterations):\n",
        "    X = np.hstack((np.ones((X.shape[0], 1)), X))\n",
        "    params = np.random.rand(X.shape[1])\n",
        "\n",
        "    cost_track = np.zeros((iterations, 1))\n",
        "\n",
        "    for i in range(iterations):\n",
        "\n",
        "        j = random.randint(0, len(X) - 1)\n",
        "\n",
        "        params = params - learning_rate * 2 * X[j].T * ((X[j] @ params) - y[j])\n",
        "\n",
        "        cost_track[i] = compute_cost(X, y, params)\n",
        "\n",
        "    return cost_track, params"
      ],
      "metadata": {
        "id": "fTZWxz1zpb9R"
      },
      "execution_count": 28,
      "outputs": []
    },
    {
      "cell_type": "markdown",
      "source": [
        "## Задание 6 (**3 балла**).\n",
        "* **(0 баллов)**. Скопируйте метод градиентного спуска из семинара в этот ноутбук.\n",
        "\n",
        "* **(0.5 балла)**. Обучите линейную регрессию на данных, сгенерированных ниже, тремя методами (по точной формуле, с помощью GD и с помощью SGD) на данных для задачи регрессии (см. код). Для GD и SGD используйте learning_rate = 0.01, iterations=10000.\n",
        "\n",
        "* **(0.5 балла)**. С помощью каждого метода сделайте предсказание (на всех данных), вычислите качество предсказания r2 (from sklearn.metrics import r2_score). Для получения предсказания можете использовать функцию predict с семинара.\n",
        "\n",
        "\n",
        "Ответьте на следующие вопросы (каждый вопрос - **0.5 балла**):\n",
        "\n",
        "1) все ли методы справились с нахождением минимума? если нет, то почему какой-то из методов не справился?\n",
        "\n",
        "2) сравните время работы методов (используйте библиотеку time): замеряйте время работы соответствующей написанной вами функции.\n",
        "\n",
        "3) для методов GD и SGD нарисуйте графики (для каждого свой) зависимости ошибки (loss) от номера итерации.\n",
        "\n",
        "4) какой метод успешнее всего справился с задачей? (т.е. r2 наибольший)."
      ],
      "metadata": {
        "id": "WnRlUa9Npi9o"
      }
    },
    {
      "cell_type": "code",
      "source": [
        "def gradient_descent(X, y, learning_rate, iterations):\n",
        "\n",
        "    X = np.hstack((np.ones((X.shape[0], 1)), X))\n",
        "    params = np.random.rand(X.shape[1])\n",
        "\n",
        "    m = X.shape[0]\n",
        "\n",
        "    cost_track = np.zeros((iterations,1))\n",
        "\n",
        "    for i in range(iterations):\n",
        "        params = params - 2./m * learning_rate * (X.T @ ((X @ params) - y))\n",
        "        cost_track[i] = compute_cost(X, y, params)\n",
        "\n",
        "    return cost_track, params"
      ],
      "metadata": {
        "id": "bwnDaSXopehE"
      },
      "execution_count": 15,
      "outputs": []
    },
    {
      "cell_type": "code",
      "source": [
        "def prediction(X, w):\n",
        "    X = np.hstack((np.ones((X.shape[0], 1)), X))\n",
        "    return X @ w"
      ],
      "metadata": {
        "id": "lCKE_JvEp7kg"
      },
      "execution_count": 18,
      "outputs": []
    },
    {
      "cell_type": "code",
      "source": [
        "from sklearn.datasets import make_regression\n",
        "import pandas as pd\n",
        "import numpy as np\n",
        "\n",
        "X, y, _ = make_regression(n_samples=100000, #number of samples\n",
        "                          n_features=10, #number of features\n",
        "                          n_informative=8, #number of useful features\n",
        "                          noise=100, #bias and standard deviation of the guassian noise\n",
        "                          coef=True, #true coefficient used to generated the data\n",
        "                          random_state=123)\n",
        "\n",
        "X = pd.DataFrame(data=X, columns=np.arange(0, X.shape[1]))\n",
        "X[10] = X[6] + X[7] + np.random.random()*0.01"
      ],
      "metadata": {
        "id": "LBu41KSpqbbI"
      },
      "execution_count": 16,
      "outputs": []
    },
    {
      "cell_type": "markdown",
      "source": [
        "### 1. Обучение по точной аналитической формуле:"
      ],
      "metadata": {
        "id": "3lDa5PzXqDOf"
      }
    },
    {
      "cell_type": "code",
      "source": [
        "w_ols = ols_solution(X, y)"
      ],
      "metadata": {
        "id": "f1SE0-oUtVlO"
      },
      "execution_count": 19,
      "outputs": []
    },
    {
      "cell_type": "code",
      "source": [
        "y_pred_ols = prediction(X, w_ols)"
      ],
      "metadata": {
        "id": "QqppsTfFqOIr"
      },
      "execution_count": 20,
      "outputs": []
    },
    {
      "cell_type": "code",
      "source": [
        "from sklearn.metrics import r2_score"
      ],
      "metadata": {
        "id": "3tcFtJcEqRWq"
      },
      "execution_count": 21,
      "outputs": []
    },
    {
      "cell_type": "code",
      "source": [
        "r2_score_ols = r2_score(y, y_pred_ols)\n",
        "r2_score_ols"
      ],
      "metadata": {
        "id": "QU2KkKYFqcxp",
        "outputId": "5c1c2a11-bd9e-4cc5-9a55-02d4d7931675",
        "colab": {
          "base_uri": "https://localhost:8080/"
        }
      },
      "execution_count": 23,
      "outputs": [
        {
          "output_type": "execute_result",
          "data": {
            "text/plain": [
              "0.7508187585657884"
            ]
          },
          "metadata": {},
          "execution_count": 23
        }
      ]
    },
    {
      "cell_type": "markdown",
      "source": [
        "### 2. Обучение при помощи градиентного спуска"
      ],
      "metadata": {
        "id": "kK0c7jmlqpzv"
      }
    },
    {
      "cell_type": "code",
      "source": [
        "track_grad, w_grad = gradient_descent(X, y, 0.01, 10_000)"
      ],
      "metadata": {
        "id": "R5k0Jj9nqocx"
      },
      "execution_count": 24,
      "outputs": []
    },
    {
      "cell_type": "code",
      "source": [
        "y_pred_grad = prediction(X, w_grad)"
      ],
      "metadata": {
        "id": "FrAt-JC1rI65"
      },
      "execution_count": 25,
      "outputs": []
    },
    {
      "cell_type": "code",
      "source": [
        "r2_score_grad = r2_score(y, y_pred_grad)\n",
        "r2_score_grad"
      ],
      "metadata": {
        "id": "SH_xXNkTrMdr",
        "outputId": "c17eecbb-bef4-4e65-9b60-b6677b2ab334",
        "colab": {
          "base_uri": "https://localhost:8080/"
        }
      },
      "execution_count": 26,
      "outputs": [
        {
          "output_type": "execute_result",
          "data": {
            "text/plain": [
              "0.7554626185750483"
            ]
          },
          "metadata": {},
          "execution_count": 26
        }
      ]
    },
    {
      "cell_type": "markdown",
      "source": [
        "### 2. Обучение при помощи стохастического градиентного спуска"
      ],
      "metadata": {
        "id": "03C4Y7n3rYp5"
      }
    },
    {
      "cell_type": "code",
      "source": [
        "track_stoch_grad, w_stoch_grad = stochastic_gradient_descent(X, y, 0.01, 10_000)"
      ],
      "metadata": {
        "id": "vsNghxvBrbGN"
      },
      "execution_count": 29,
      "outputs": []
    },
    {
      "cell_type": "code",
      "source": [
        "y_stoch_grad = prediction(X, w_stoch_grad)"
      ],
      "metadata": {
        "id": "6ys_lxMtrbIe"
      },
      "execution_count": 30,
      "outputs": []
    },
    {
      "cell_type": "code",
      "source": [
        "r2_stoch_grad = r2_score(y, y_stoch_grad)\n",
        "r2_stoch_grad"
      ],
      "metadata": {
        "id": "7ms8Gxu6rbKj",
        "outputId": "c43065f1-be28-4861-bb39-4dea9fb46529",
        "colab": {
          "base_uri": "https://localhost:8080/"
        }
      },
      "execution_count": 31,
      "outputs": [
        {
          "output_type": "execute_result",
          "data": {
            "text/plain": [
              "0.7263500156652862"
            ]
          },
          "metadata": {},
          "execution_count": 31
        }
      ]
    },
    {
      "cell_type": "markdown",
      "source": [
        "### Замеряем время"
      ],
      "metadata": {
        "id": "JzfhNEZ_0DuR"
      }
    },
    {
      "cell_type": "code",
      "source": [
        "%%time\n",
        "ols_solution(X, y)"
      ],
      "metadata": {
        "id": "Y0wC2FKJ0GeS",
        "outputId": "54c12d7d-e2f4-4191-9309-e7fc20004bff",
        "colab": {
          "base_uri": "https://localhost:8080/"
        }
      },
      "execution_count": 32,
      "outputs": [
        {
          "output_type": "stream",
          "name": "stdout",
          "text": [
            "CPU times: user 20.3 ms, sys: 10.1 ms, total: 30.4 ms\n",
            "Wall time: 23.8 ms\n"
          ]
        },
        {
          "output_type": "execute_result",
          "data": {
            "text/plain": [
              "array([-0.58327632, 56.78684635, 33.49844357, -0.23553835, 39.65999222,\n",
              "       -0.12281177, 49.13032063, 16.43448304, 63.42260049, 79.20386231,\n",
              "       42.4712069 , 40.5520015 ])"
            ]
          },
          "metadata": {},
          "execution_count": 32
        }
      ]
    },
    {
      "cell_type": "code",
      "source": [
        "%%time\n",
        "gradient_descent(X, y, 0.01, 10_000)"
      ],
      "metadata": {
        "id": "xatlDnEg00Af",
        "outputId": "a1c09a63-0568-4f2e-f8b5-032aaf41760d",
        "colab": {
          "base_uri": "https://localhost:8080/"
        }
      },
      "execution_count": 33,
      "outputs": [
        {
          "output_type": "stream",
          "name": "stdout",
          "text": [
            "CPU times: user 35.2 s, sys: 8.63 s, total: 43.9 s\n",
            "Wall time: 28.9 s\n"
          ]
        },
        {
          "output_type": "execute_result",
          "data": {
            "text/plain": [
              "(array([[37774.64816408],\n",
              "        [35760.72322256],\n",
              "        [33932.87385961],\n",
              "        ...,\n",
              "        [ 9982.20353127],\n",
              "        [ 9982.20353127],\n",
              "        [ 9982.20353127]]),\n",
              " array([-0.6766551 , 56.82455793, 33.48291813, -0.24065452, 39.64529367,\n",
              "        -0.13585617, 49.12295947, 13.86198555, 42.83767631, 79.20386231,\n",
              "        42.4712069 , 55.78238345]))"
            ]
          },
          "metadata": {},
          "execution_count": 33
        }
      ]
    },
    {
      "cell_type": "code",
      "source": [
        "%%time\n",
        "stochastic_gradient_descent(X, y, 0.01, 10_000)"
      ],
      "metadata": {
        "id": "JGC4ZMLg0-I7",
        "outputId": "33acd5cb-e28b-49a0-8ed1-fea28ae2f56a",
        "colab": {
          "base_uri": "https://localhost:8080/"
        }
      },
      "execution_count": 34,
      "outputs": [
        {
          "output_type": "stream",
          "name": "stdout",
          "text": [
            "CPU times: user 13.1 s, sys: 3.99 s, total: 17.1 s\n",
            "Wall time: 12.1 s\n"
          ]
        },
        {
          "output_type": "execute_result",
          "data": {
            "text/plain": [
              "(array([[38664.46069516],\n",
              "        [39857.78768568],\n",
              "        [38134.36232139],\n",
              "        ...,\n",
              "        [10833.02322266],\n",
              "        [10832.32337895],\n",
              "        [10524.15671345]]),\n",
              " array([ 10.39993443,  53.13199658,  30.85233316, -11.6799481 ,\n",
              "         46.37487334,  -8.96271218,  42.13948603,  11.84898314,\n",
              "         43.85644649,  74.0750245 ,  50.33555648,  54.85150105]))"
            ]
          },
          "metadata": {},
          "execution_count": 34
        }
      ]
    },
    {
      "cell_type": "markdown",
      "source": [
        "### Ответы на вопросы:\n",
        "\n",
        "1) все ли методы справились с нахождением минимума? если нет, то почему какой-то из методов не справился?\n",
        "\n",
        "да, все методы справились\n",
        "\n",
        "2) сравните время работы методов (используйте библиотеку time): замеряйте время работы соответствующей написанной вами функции.\n",
        "\n",
        "самый долгий - градиентный спуск, самый быстрый - аналитический\n",
        "\n",
        "4) какой метод успешнее всего справился с задачей? (т.е. r2 наибольший).\n",
        "\n",
        "градиентный спуск........"
      ],
      "metadata": {
        "id": "Uqk6uE5X1SI4"
      }
    },
    {
      "cell_type": "code",
      "source": [
        "plt.plot(track_grad)"
      ],
      "metadata": {
        "id": "KQRQZdgo2Nxi",
        "outputId": "6280d540-232e-4857-b522-73f487764219",
        "colab": {
          "base_uri": "https://localhost:8080/",
          "height": 447
        }
      },
      "execution_count": 35,
      "outputs": [
        {
          "output_type": "execute_result",
          "data": {
            "text/plain": [
              "[<matplotlib.lines.Line2D at 0x7d273c4a5d20>]"
            ]
          },
          "metadata": {},
          "execution_count": 35
        },
        {
          "output_type": "display_data",
          "data": {
            "text/plain": [
              "<Figure size 640x480 with 1 Axes>"
            ],
            "image/png": "[encoded data removed]"
          },
          "metadata": {}
        }
      ]
    },
    {
      "cell_type": "code",
      "source": [
        "plt.plot(track_stoch_grad)"
      ],
      "metadata": {
        "id": "yB85rVgY2SPN",
        "outputId": "fbfa2597-06a8-4da1-d17c-b7d533cb7973",
        "colab": {
          "base_uri": "https://localhost:8080/",
          "height": 447
        }
      },
      "execution_count": 36,
      "outputs": [
        {
          "output_type": "execute_result",
          "data": {
            "text/plain": [
              "[<matplotlib.lines.Line2D at 0x7d273c69b340>]"
            ]
          },
          "metadata": {},
          "execution_count": 36
        },
        {
          "output_type": "display_data",
          "data": {
            "text/plain": [
              "<Figure size 640x480 with 1 Axes>"
            ],
            "image/png": "[encoded data removed]"
          },
          "metadata": {}
        }
      ]
    },
    {
      "cell_type": "markdown",
      "source": [
        "## Задание 7 (1.5 балла).\n",
        "\n",
        "* **(0.5 балла)**. Добавьте в функцию из задания 5 L2-регуляризацию и, соответственно, новый аргумент - коэффициент при регуляризаторе.\n",
        "\n",
        "* **(1 балл)**. На сгенерированных выше данных обучите модифицированный алгоритм SGD с регуляризацией: в цикле перебирайте значения коэффициента регуляризации от 0.1 до 1 с шагом 0.1. Для каждого значения обучите модель и сделайте предсказание, выведите значение r2. Для какого значения коэффициента регуляризации получилось наилучшее качество r2, почему?"
      ],
      "metadata": {
        "id": "wYmzzJVV54zT"
      }
    },
    {
      "cell_type": "code",
      "source": [
        "def compute_cost(X, y, params, reg_lambda):\n",
        "    m = len(y)\n",
        "    predictions = X @ params\n",
        "    cost = (1 / m) * np.sum((predictions - y) ** 2)\n",
        "\n",
        "    l2_penalty = reg_lambda * np.sum(params[1:] ** 2)\n",
        "    return cost + l2_penalty\n",
        "\n",
        "def stochastic_gradient_descent(X, y, learning_rate, iterations, reg_lambda):\n",
        "    X = np.hstack((np.ones((X.shape[0], 1)), X))\n",
        "    params = np.random.rand(X.shape[1])\n",
        "\n",
        "    cost_track = np.zeros((iterations, 1))\n",
        "\n",
        "    for i in range(iterations):\n",
        "\n",
        "        j = random.randint(0, len(X) - 1)\n",
        "\n",
        "        gradient = 2 * X[j].T * ((X[j] @ params) - y[j]) + reg_lambda * params\n",
        "        gradient[0] -= reg_lambda * params[0]  # на свободный член регуляризация не распространяется\n",
        "        params = params - learning_rate * gradient\n",
        "\n",
        "        cost_track[i] = compute_cost(X, y, params, reg_lambda)\n",
        "\n",
        "    return cost_track, params"
      ],
      "metadata": {
        "id": "b_hC1Ehi612d"
      },
      "execution_count": 37,
      "outputs": []
    },
    {
      "cell_type": "code",
      "source": [
        "learning_rate = 0.01\n",
        "iterations = 1000\n",
        "lambdas = np.arange(0.1, 1.1, 0.1)\n",
        "\n",
        "r2_scores = []\n",
        "\n",
        "for reg_lambda in lambdas:\n",
        "    cost_track, w = stochastic_gradient_descent(X, y, learning_rate, iterations, reg_lambda)\n",
        "    y_pred = prediction(X, w)\n",
        "    r2 = r2_score(y, y_pred)\n",
        "    r2_scores.append(r2)\n",
        "    print(f\"Регуляризация λ = {reg_lambda:.1f} | R² = {r2:.4f}\")\n",
        "\n",
        "# Визуализация R² для разных λ\n",
        "plt.plot(lambdas, r2_scores, marker='o')\n",
        "plt.xlabel(\"Коэффициент регуляризации (λ)\")\n",
        "plt.ylabel(\"R²\")\n",
        "plt.title(\"Зависимость R² от коэффициента регуляризации\")\n",
        "plt.grid(True)\n",
        "plt.show()"
      ],
      "metadata": {
        "id": "QpRP-z-H_YAn",
        "outputId": "27bd8f51-3e6b-45c6-d2e2-0246b8b4c2b9",
        "colab": {
          "base_uri": "https://localhost:8080/",
          "height": 640
        }
      },
      "execution_count": 38,
      "outputs": [
        {
          "output_type": "stream",
          "name": "stdout",
          "text": [
            "Регуляризация λ = 0.1 | R² = 0.7237\n",
            "Регуляризация λ = 0.2 | R² = 0.6882\n",
            "Регуляризация λ = 0.3 | R² = 0.7270\n",
            "Регуляризация λ = 0.4 | R² = 0.6703\n",
            "Регуляризация λ = 0.5 | R² = 0.6791\n",
            "Регуляризация λ = 0.6 | R² = 0.6911\n",
            "Регуляризация λ = 0.7 | R² = 0.6736\n",
            "Регуляризация λ = 0.8 | R² = 0.6747\n",
            "Регуляризация λ = 0.9 | R² = 0.7096\n",
            "Регуляризация λ = 1.0 | R² = 0.6863\n"
          ]
        },
        {
          "output_type": "display_data",
          "data": {
            "text/plain": [
              "<Figure size 640x480 with 1 Axes>"
            ],
            "image/png": "[encoded data removed]"
          },
          "metadata": {}
        }
      ]
    },
    {
      "cell_type": "markdown",
      "source": [
        "Лучшее значение метрики R² получили при λ = 0.3. При малых значениях модель склонна к переобучению (большие веса не штрафуются), при больших - к недообучению (слишком сильные ограничения на веса)"
      ],
      "metadata": {
        "id": "n-9ym7m1AGG-"
      }
    },
    {
      "cell_type": "markdown",
      "source": [
        "## Задание 8 (2 балла)\n",
        "\n",
        "Реализуйте на выбор одну из оптимизаций градиентного спуска - Momentum или  AdaGrad. Необходимые выкладки вы можете подсмотреть [здесь](https://education.yandex.ru/handbook/ml/article/optimizaciya-v-ml)."
      ],
      "metadata": {
        "id": "zMUiRyCiCB3E"
      }
    },
    {
      "cell_type": "code",
      "source": [
        "def compute_cost(X, y, params):\n",
        "    m = len(y)\n",
        "    predictions = X @ params\n",
        "    cost = (1 / m) * np.sum((predictions - y) ** 2)\n",
        "    return cost"
      ],
      "metadata": {
        "id": "HKXIg2MkB3ox"
      },
      "execution_count": 41,
      "outputs": []
    },
    {
      "cell_type": "code",
      "source": [
        "def modified_grad_descent(X, y, learning_rate, iterations, epsilon=1e-8):\n",
        "    X = np.hstack((np.ones((X.shape[0], 1)), X))\n",
        "    params = np.random.rand(X.shape[1])\n",
        "    G = np.zeros_like(params)\n",
        "\n",
        "    cost_track = np.zeros((iterations, 1))\n",
        "\n",
        "    for i in range(iterations):\n",
        "\n",
        "        j = random.randint(0, len(X) - 1)\n",
        "\n",
        "        gradient = 2 * X[j].T * ((X[j] @ params) - y[j])\n",
        "\n",
        "        G += gradient ** 2\n",
        "\n",
        "        params = params - learning_rate * gradient / (np.sqrt(G) + epsilon)\n",
        "\n",
        "        cost_track[i] = compute_cost(X, y, params)\n",
        "\n",
        "    return cost_track, params"
      ],
      "metadata": {
        "id": "fblyE5rwBsYg"
      },
      "execution_count": 42,
      "outputs": []
    },
    {
      "cell_type": "markdown",
      "source": [
        "## Бонус\n",
        "\n",
        "## Задание 9 (0.5 балла)\n",
        "\n",
        "Существует [метод Ньютона](https://en.wikipedia.org/wiki/Newton%27s_method_in_optimization) (метод второго порядка) для поиска минимума функции.\n",
        "\n",
        "Известно, что методы второго порядка точнее, чем методы первого порядка (то есть те, которые используют только первую производную для оптимизации). Как вы думаете, почему в оптимизации функций потерь все формулы используют только производные первого порядка? Почему не используют метод Ньютона?"
      ],
      "metadata": {
        "id": "tP182Wbyh8xg"
      }
    },
    {
      "cell_type": "markdown",
      "source": [
        "\n",
        "\n",
        "1.   вычислительная сложность (нужно вычислять и хранить матрицу вторых производных)\n",
        "2.   квадратичная сложность при работе с матрицей вторых проихводных\n",
        "3.   не всегда легко найти вторую производную (иногда ее вообще нельзя найти)\n",
        "4.   если функция нехорошая, методы второго порядка могут быть чувствительны к шуму\n",
        "\n"
      ],
      "metadata": {
        "id": "_oAVesTTDE17"
      }
    },
    {
      "cell_type": "markdown",
      "source": [
        "## **Часть Котобонус** 🐈\n",
        "\n",
        "Ура-ура, с вами снова кот, который может добавить вам баллы!\n",
        "- 0.25, если вы угадаете, чей он\n",
        "- 0.05 если просто предположите\n",
        "\n",
        "**Подсказка:** кот одной из наших замечательных ассистенток!\n",
        "\n",
        "\n",
        "[Кайфующий кот](https://ibb.co/qxjz2tp)"
      ],
      "metadata": {
        "id": "u7hKRuViF7hv"
      }
    },
    {
      "cell_type": "markdown",
      "source": [
        "Кот Яны"
      ],
      "metadata": {
        "id": "fsnGPkgNC2k6"
      }
    }
  ]
}